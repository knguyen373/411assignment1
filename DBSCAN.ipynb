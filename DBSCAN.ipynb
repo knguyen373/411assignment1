{
 "cells": [
  {
   "cell_type": "markdown",
   "metadata": {},
   "source": [
    "### DBSCAN Implementation"
   ]
  },
  {
   "cell_type": "code",
   "execution_count": 44,
   "metadata": {},
   "outputs": [],
   "source": [
    "import math "
   ]
  },
  {
   "cell_type": "code",
   "execution_count": 46,
   "metadata": {},
   "outputs": [],
   "source": [
    "def distance_function(Q, P):\n",
    "    return(math.sqrt( (Q*Q) + (P*P) ))"
   ]
  },
  {
   "cell_type": "code",
   "execution_count": 66,
   "metadata": {},
   "outputs": [],
   "source": [
    "def range_query(X, Q, eps, distance_metric = 'euclidean'):\n",
    "    neighbors = set()\n",
    "    for P in range(len(X)):\n",
    "        if (distance_metric == 'euclidean'):\n",
    "            if(distance_function(Q, P) <= eps):\n",
    "                neighbors.add(P)\n",
    "    return neighbors"
   ]
  },
  {
   "cell_type": "code",
   "execution_count": 130,
   "metadata": {},
   "outputs": [],
   "source": [
    "class DBSCAN:\n",
    "    def __init__(self):\n",
    "        pass\n",
    "    \n",
    "    def fit(self, X, eps, min_samples, distance_metric= 'euclidean'):\n",
    "        C = 0\n",
    "        labels = []\n",
    "        for i in range(len(X)):\n",
    "            labels.append(0)\n",
    "            \n",
    "        for P in range(len(X)):\n",
    "            if(labels[P] is not 0):\n",
    "                continue\n",
    "            neighbors = range_query(X, P, eps, distance_metric = 'euclidean')\n",
    "            if(len(neighbors) < min_samples):\n",
    "                labels[P] = -1\n",
    "                continue\n",
    "            C = C + 1\n",
    "            labels[P] = C\n",
    "            new_set = set(X[P])\n",
    "            s = set()\n",
    "            s = neighbors - new_set\n",
    "            for Q in range(len(s)):\n",
    "                if(labels[Q] == -1):\n",
    "                    labels[Q] = C\n",
    "                if(labels[Q] == 0):\n",
    "                    continue\n",
    "                labels[Q] = C\n",
    "                neighbors = range_query(X, P, eps, distance_metric = 'euclidean')\n",
    "                if(len(neighbors) >= min_samples):\n",
    "                    s = s.union(neighbors)\n",
    "        print(s)"
   ]
  },
  {
   "cell_type": "code",
   "execution_count": 136,
   "metadata": {},
   "outputs": [
    {
     "name": "stdout",
     "output_type": "stream",
     "text": [
      "{0, 1, 2}\n"
     ]
    }
   ],
   "source": [
    "DBSCAN.fit(DBSCAN,[[1,2,3],[3,2,1],[0,0,0]], 3, 2,distance_metric= 'euclidean')"
   ]
  },
  {
   "cell_type": "code",
   "execution_count": 88,
   "metadata": {},
   "outputs": [
    {
     "ename": "IndexError",
     "evalue": "list index out of range",
     "output_type": "error",
     "traceback": [
      "\u001b[0;31m---------------------------------------------------------------------------\u001b[0m",
      "\u001b[0;31mIndexError\u001b[0m                                Traceback (most recent call last)",
      "\u001b[0;32m<ipython-input-88-8623f6f1b881>\u001b[0m in \u001b[0;36m<module>\u001b[0;34m\u001b[0m\n\u001b[1;32m      1\u001b[0m \u001b[0mtemp\u001b[0m \u001b[0;34m=\u001b[0m \u001b[0;34m[\u001b[0m\u001b[0;34m]\u001b[0m\u001b[0;34m\u001b[0m\u001b[0;34m\u001b[0m\u001b[0m\n\u001b[0;32m----> 2\u001b[0;31m \u001b[0mprint\u001b[0m\u001b[0;34m(\u001b[0m\u001b[0mtemp\u001b[0m\u001b[0;34m[\u001b[0m\u001b[0;36m0\u001b[0m\u001b[0;34m]\u001b[0m \u001b[0;32mis\u001b[0m \u001b[0;32mNone\u001b[0m\u001b[0;34m)\u001b[0m\u001b[0;34m\u001b[0m\u001b[0;34m\u001b[0m\u001b[0m\n\u001b[0m",
      "\u001b[0;31mIndexError\u001b[0m: list index out of range"
     ]
    }
   ],
   "source": [
    "temp = []\n",
    "print(temp[0] is None)"
   ]
  }
 ],
 "metadata": {
  "kernelspec": {
   "display_name": "Python 3",
   "language": "python",
   "name": "python3"
  },
  "language_info": {
   "codemirror_mode": {
    "name": "ipython",
    "version": 3
   },
   "file_extension": ".py",
   "mimetype": "text/x-python",
   "name": "python",
   "nbconvert_exporter": "python",
   "pygments_lexer": "ipython3",
   "version": "3.7.6"
  }
 },
 "nbformat": 4,
 "nbformat_minor": 4
}
