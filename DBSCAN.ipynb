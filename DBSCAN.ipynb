{
 "cells": [
  {
   "cell_type": "markdown",
   "metadata": {},
   "source": [
    "### DBSCAN Implementation"
   ]
  },
  {
   "cell_type": "code",
   "execution_count": 4,
   "metadata": {},
   "outputs": [],
   "source": [
    "import math"
   ]
  },
  {
   "cell_type": "code",
   "execution_count": 5,
   "metadata": {},
   "outputs": [],
   "source": [
    "def distance_function(Q, P):\n",
    "    return(sqrt( (Q*Q) + (P*P) ))"
   ]
  },
  {
   "cell_type": "code",
   "execution_count": 6,
   "metadata": {},
   "outputs": [],
   "source": [
    "def range_query(X, Q, eps, distance_metric = 'euclidean'):\n",
    "    neighbors = []\n",
    "    for P in range(len(X)):\n",
    "        if (distance_metric == 'euclidean'):\n",
    "            if(distance_function(Q, P) <= eps):\n",
    "                neighbors.add(P)\n",
    "    return neighbors"
   ]
  },
  {
   "cell_type": "code",
   "execution_count": 9,
   "metadata": {},
   "outputs": [],
   "source": [
    "class DBSCAN:\n",
    "    def __init__(self):\n",
    "        pass\n",
    "    def fit(self, X, eps, min_samples, distance_metric= 'euclidean'):\n",
    "        cluster_counter = 0\n",
    "        for P in range(len(X)):\n",
    "            if(P == -1):\n",
    "                break\n",
    "            else:\n",
    "                continue\n",
    "            neighbors = range_query(X, P, eps, distance_metric = 'euclidean')\n",
    "        if(len(neighbors < min_samples)):\n",
    "            P = -1"
   ]
  },
  {
   "cell_type": "code",
   "execution_count": null,
   "metadata": {},
   "outputs": [],
   "source": []
  }
 ],
 "metadata": {
  "kernelspec": {
   "display_name": "Python 3",
   "language": "python",
   "name": "python3"
  },
  "language_info": {
   "codemirror_mode": {
    "name": "ipython",
    "version": 3
   },
   "file_extension": ".py",
   "mimetype": "text/x-python",
   "name": "python",
   "nbconvert_exporter": "python",
   "pygments_lexer": "ipython3",
   "version": "3.7.6"
  }
 },
 "nbformat": 4,
 "nbformat_minor": 4
}
